{
  "nbformat": 4,
  "nbformat_minor": 0,
  "metadata": {
    "colab": {
      "provenance": [],
      "toc_visible": true
    },
    "kernelspec": {
      "name": "python3",
      "display_name": "Python 3"
    },
    "language_info": {
      "name": "python"
    }
  },
  "cells": [
    {
      "cell_type": "code",
      "execution_count": 15,
      "metadata": {
        "colab": {
          "base_uri": "https://localhost:8080/"
        },
        "id": "qtKbcv3MZREm",
        "outputId": "8d110d6b-8d73-41ae-8976-81dd26af9f2d"
      },
      "outputs": [
        {
          "output_type": "stream",
          "name": "stdout",
          "text": [
            "Requirement already satisfied: scikit-learn==1.3.2 in /usr/local/lib/python3.11/dist-packages (1.3.2)\n",
            "Requirement already satisfied: scikeras==0.12.0 in /usr/local/lib/python3.11/dist-packages (0.12.0)\n",
            "Requirement already satisfied: tensorflow==2.12.0 in /usr/local/lib/python3.11/dist-packages (2.12.0)\n",
            "Requirement already satisfied: numpy<2.0,>=1.17.3 in /usr/local/lib/python3.11/dist-packages (from scikit-learn==1.3.2) (1.23.5)\n",
            "Requirement already satisfied: scipy>=1.5.0 in /usr/local/lib/python3.11/dist-packages (from scikit-learn==1.3.2) (1.15.3)\n",
            "Requirement already satisfied: joblib>=1.1.1 in /usr/local/lib/python3.11/dist-packages (from scikit-learn==1.3.2) (1.5.0)\n",
            "Requirement already satisfied: threadpoolctl>=2.0.0 in /usr/local/lib/python3.11/dist-packages (from scikit-learn==1.3.2) (3.6.0)\n",
            "Requirement already satisfied: packaging>=0.21 in /usr/local/lib/python3.11/dist-packages (from scikeras==0.12.0) (24.2)\n",
            "Requirement already satisfied: absl-py>=1.0.0 in /usr/local/lib/python3.11/dist-packages (from tensorflow==2.12.0) (1.4.0)\n",
            "Requirement already satisfied: astunparse>=1.6.0 in /usr/local/lib/python3.11/dist-packages (from tensorflow==2.12.0) (1.6.3)\n",
            "Requirement already satisfied: flatbuffers>=2.0 in /usr/local/lib/python3.11/dist-packages (from tensorflow==2.12.0) (25.2.10)\n",
            "Requirement already satisfied: gast<=0.4.0,>=0.2.1 in /usr/local/lib/python3.11/dist-packages (from tensorflow==2.12.0) (0.4.0)\n",
            "Requirement already satisfied: google-pasta>=0.1.1 in /usr/local/lib/python3.11/dist-packages (from tensorflow==2.12.0) (0.2.0)\n",
            "Requirement already satisfied: grpcio<2.0,>=1.24.3 in /usr/local/lib/python3.11/dist-packages (from tensorflow==2.12.0) (1.71.0)\n",
            "Requirement already satisfied: h5py>=2.9.0 in /usr/local/lib/python3.11/dist-packages (from tensorflow==2.12.0) (3.13.0)\n",
            "Requirement already satisfied: jax>=0.3.15 in /usr/local/lib/python3.11/dist-packages (from tensorflow==2.12.0) (0.4.30)\n",
            "Requirement already satisfied: keras<2.13,>=2.12.0 in /usr/local/lib/python3.11/dist-packages (from tensorflow==2.12.0) (2.12.0)\n",
            "Requirement already satisfied: libclang>=13.0.0 in /usr/local/lib/python3.11/dist-packages (from tensorflow==2.12.0) (18.1.1)\n",
            "Requirement already satisfied: opt-einsum>=2.3.2 in /usr/local/lib/python3.11/dist-packages (from tensorflow==2.12.0) (3.4.0)\n",
            "Requirement already satisfied: protobuf!=4.21.0,!=4.21.1,!=4.21.2,!=4.21.3,!=4.21.4,!=4.21.5,<5.0.0dev,>=3.20.3 in /usr/local/lib/python3.11/dist-packages (from tensorflow==2.12.0) (4.25.7)\n",
            "Requirement already satisfied: setuptools in /usr/local/lib/python3.11/dist-packages (from tensorflow==2.12.0) (75.2.0)\n",
            "Requirement already satisfied: six>=1.12.0 in /usr/local/lib/python3.11/dist-packages (from tensorflow==2.12.0) (1.17.0)\n",
            "Requirement already satisfied: tensorboard<2.13,>=2.12 in /usr/local/lib/python3.11/dist-packages (from tensorflow==2.12.0) (2.12.3)\n",
            "Requirement already satisfied: tensorflow-estimator<2.13,>=2.12.0 in /usr/local/lib/python3.11/dist-packages (from tensorflow==2.12.0) (2.12.0)\n",
            "Requirement already satisfied: termcolor>=1.1.0 in /usr/local/lib/python3.11/dist-packages (from tensorflow==2.12.0) (3.1.0)\n",
            "Requirement already satisfied: typing-extensions>=3.6.6 in /usr/local/lib/python3.11/dist-packages (from tensorflow==2.12.0) (4.13.2)\n",
            "Requirement already satisfied: wrapt<1.15,>=1.11.0 in /usr/local/lib/python3.11/dist-packages (from tensorflow==2.12.0) (1.14.1)\n",
            "Requirement already satisfied: tensorflow-io-gcs-filesystem>=0.23.1 in /usr/local/lib/python3.11/dist-packages (from tensorflow==2.12.0) (0.37.1)\n",
            "Requirement already satisfied: wheel<1.0,>=0.23.0 in /usr/local/lib/python3.11/dist-packages (from astunparse>=1.6.0->tensorflow==2.12.0) (0.45.1)\n",
            "Requirement already satisfied: jaxlib<=0.4.30,>=0.4.27 in /usr/local/lib/python3.11/dist-packages (from jax>=0.3.15->tensorflow==2.12.0) (0.4.30)\n",
            "Requirement already satisfied: ml-dtypes>=0.2.0 in /usr/local/lib/python3.11/dist-packages (from jax>=0.3.15->tensorflow==2.12.0) (0.4.1)\n",
            "Requirement already satisfied: google-auth<3,>=1.6.3 in /usr/local/lib/python3.11/dist-packages (from tensorboard<2.13,>=2.12->tensorflow==2.12.0) (2.38.0)\n",
            "Requirement already satisfied: google-auth-oauthlib<1.1,>=0.5 in /usr/local/lib/python3.11/dist-packages (from tensorboard<2.13,>=2.12->tensorflow==2.12.0) (1.0.0)\n",
            "Requirement already satisfied: markdown>=2.6.8 in /usr/local/lib/python3.11/dist-packages (from tensorboard<2.13,>=2.12->tensorflow==2.12.0) (3.8)\n",
            "Requirement already satisfied: requests<3,>=2.21.0 in /usr/local/lib/python3.11/dist-packages (from tensorboard<2.13,>=2.12->tensorflow==2.12.0) (2.32.3)\n",
            "Requirement already satisfied: tensorboard-data-server<0.8.0,>=0.7.0 in /usr/local/lib/python3.11/dist-packages (from tensorboard<2.13,>=2.12->tensorflow==2.12.0) (0.7.2)\n",
            "Requirement already satisfied: werkzeug>=1.0.1 in /usr/local/lib/python3.11/dist-packages (from tensorboard<2.13,>=2.12->tensorflow==2.12.0) (3.1.3)\n",
            "Requirement already satisfied: cachetools<6.0,>=2.0.0 in /usr/local/lib/python3.11/dist-packages (from google-auth<3,>=1.6.3->tensorboard<2.13,>=2.12->tensorflow==2.12.0) (5.5.2)\n",
            "Requirement already satisfied: pyasn1-modules>=0.2.1 in /usr/local/lib/python3.11/dist-packages (from google-auth<3,>=1.6.3->tensorboard<2.13,>=2.12->tensorflow==2.12.0) (0.4.2)\n",
            "Requirement already satisfied: rsa<5,>=3.1.4 in /usr/local/lib/python3.11/dist-packages (from google-auth<3,>=1.6.3->tensorboard<2.13,>=2.12->tensorflow==2.12.0) (4.9.1)\n",
            "Requirement already satisfied: requests-oauthlib>=0.7.0 in /usr/local/lib/python3.11/dist-packages (from google-auth-oauthlib<1.1,>=0.5->tensorboard<2.13,>=2.12->tensorflow==2.12.0) (2.0.0)\n",
            "Requirement already satisfied: charset-normalizer<4,>=2 in /usr/local/lib/python3.11/dist-packages (from requests<3,>=2.21.0->tensorboard<2.13,>=2.12->tensorflow==2.12.0) (3.4.2)\n",
            "Requirement already satisfied: idna<4,>=2.5 in /usr/local/lib/python3.11/dist-packages (from requests<3,>=2.21.0->tensorboard<2.13,>=2.12->tensorflow==2.12.0) (3.10)\n",
            "Requirement already satisfied: urllib3<3,>=1.21.1 in /usr/local/lib/python3.11/dist-packages (from requests<3,>=2.21.0->tensorboard<2.13,>=2.12->tensorflow==2.12.0) (2.4.0)\n",
            "Requirement already satisfied: certifi>=2017.4.17 in /usr/local/lib/python3.11/dist-packages (from requests<3,>=2.21.0->tensorboard<2.13,>=2.12->tensorflow==2.12.0) (2025.4.26)\n",
            "Requirement already satisfied: MarkupSafe>=2.1.1 in /usr/local/lib/python3.11/dist-packages (from werkzeug>=1.0.1->tensorboard<2.13,>=2.12->tensorflow==2.12.0) (3.0.2)\n",
            "Requirement already satisfied: pyasn1<0.7.0,>=0.6.1 in /usr/local/lib/python3.11/dist-packages (from pyasn1-modules>=0.2.1->google-auth<3,>=1.6.3->tensorboard<2.13,>=2.12->tensorflow==2.12.0) (0.6.1)\n",
            "Requirement already satisfied: oauthlib>=3.0.0 in /usr/local/lib/python3.11/dist-packages (from requests-oauthlib>=0.7.0->google-auth-oauthlib<1.1,>=0.5->tensorboard<2.13,>=2.12->tensorflow==2.12.0) (3.2.2)\n"
          ]
        }
      ],
      "source": [
        "!pip install --upgrade scikit-learn==1.3.2 scikeras==0.12.0 tensorflow==2.12.0"
      ]
    },
    {
      "cell_type": "code",
      "source": [
        "import pandas as pd\n",
        "import numpy as np\n",
        "from sklearn.model_selection import train_test_split\n",
        "from tensorflow.keras.models import Sequential\n",
        "from tensorflow.keras.layers import Dense,Dropout\n",
        "from tensorflow.keras.optimizers import Adam\n",
        "from scikeras.wrappers import KerasClassifier\n"
      ],
      "metadata": {
        "id": "sdNRcORONKDv"
      },
      "execution_count": 16,
      "outputs": []
    },
    {
      "cell_type": "code",
      "source": [
        "data=pd.read_csv(\"/content/Alphabets_data.csv\")"
      ],
      "metadata": {
        "id": "gWlP2Eh-ONtj"
      },
      "execution_count": 17,
      "outputs": []
    },
    {
      "cell_type": "code",
      "source": [
        "x=data.iloc[:,1:]\n",
        "y=data.iloc[:,0]"
      ],
      "metadata": {
        "id": "5Xsg7fcKOs9M"
      },
      "execution_count": 18,
      "outputs": []
    },
    {
      "cell_type": "code",
      "source": [
        "from sklearn.preprocessing import LabelEncoder,StandardScaler\n",
        "le=LabelEncoder()\n",
        "y_encod=le.fit_transform(y)\n",
        "len(np.unique(y_encod))"
      ],
      "metadata": {
        "colab": {
          "base_uri": "https://localhost:8080/"
        },
        "id": "icNzlZzZPJJm",
        "outputId": "c374e1b3-9d45-4a1c-e8b3-e8b3da4a1aaf"
      },
      "execution_count": 19,
      "outputs": [
        {
          "output_type": "execute_result",
          "data": {
            "text/plain": [
              "26"
            ]
          },
          "metadata": {},
          "execution_count": 19
        }
      ]
    },
    {
      "cell_type": "code",
      "source": [
        "scaler=StandardScaler()\n",
        "x_scaler=scaler.fit_transform(x)"
      ],
      "metadata": {
        "id": "6PiQjgedfqTX"
      },
      "execution_count": 20,
      "outputs": []
    },
    {
      "cell_type": "code",
      "source": [
        "x_train,x_test,y_train,y_test=train_test_split(x_scaler,y_encod,test_size=0.2,random_state=42)\n",
        "x_train.shape,y_train.shape"
      ],
      "metadata": {
        "colab": {
          "base_uri": "https://localhost:8080/"
        },
        "id": "FcV7DnFBf5Fr",
        "outputId": "2e7c8956-5c30-46aa-a55f-84a471d9c9e9"
      },
      "execution_count": 21,
      "outputs": [
        {
          "output_type": "execute_result",
          "data": {
            "text/plain": [
              "((16000, 16), (16000,))"
            ]
          },
          "metadata": {},
          "execution_count": 21
        }
      ]
    },
    {
      "cell_type": "code",
      "source": [
        "def create_model():\n",
        "  model=Sequential(name='hyperparameter_tunning_dummy_model')\n",
        "  model.add(Dense(64,input_dim=16,kernel_initializer='uniform',activation='relu'))\n",
        "  model.add(Dense(32,kernel_initializer='uniform',activation='relu'))\n",
        "  model.add(Dense(26,kernel_initializer='uniform',activation='softmax'))\n",
        "  adam=Adam(learning_rate=0.01)\n",
        "  model.compile(loss='sparse_categorical_crossentropy',optimizer=adam,metrics=['accuracy'])\n",
        "  return model\n"
      ],
      "metadata": {
        "id": "O_gedtMxgO8i"
      },
      "execution_count": 22,
      "outputs": []
    },
    {
      "cell_type": "code",
      "source": [
        "default_model = create_model()\n",
        "history=default_model.fit(x_train, y_train,)"
      ],
      "metadata": {
        "colab": {
          "base_uri": "https://localhost:8080/"
        },
        "id": "pnmVpyEFN-9A",
        "outputId": "7cda5d69-f33e-42c4-8a5a-ee83a3ff7333"
      },
      "execution_count": 23,
      "outputs": [
        {
          "output_type": "stream",
          "name": "stdout",
          "text": [
            "500/500 [==============================] - 2s 3ms/step - loss: 1.0903 - accuracy: 0.6536\n"
          ]
        }
      ]
    },
    {
      "cell_type": "code",
      "source": [
        "y_pred=default_model.predict(x_test)"
      ],
      "metadata": {
        "colab": {
          "base_uri": "https://localhost:8080/"
        },
        "id": "_4npGAxsOjGv",
        "outputId": "fbe80120-ac47-4658-91c9-188b188c0db8"
      },
      "execution_count": 24,
      "outputs": [
        {
          "output_type": "stream",
          "name": "stdout",
          "text": [
            "125/125 [==============================] - 0s 2ms/step\n"
          ]
        }
      ]
    },
    {
      "cell_type": "code",
      "source": [
        "from sklearn.metrics import classification_report\n",
        "y_pred_classes = np.argmax(y_pred, axis=1)\n",
        "print(classification_report(y_test,y_pred_classes))"
      ],
      "metadata": {
        "colab": {
          "base_uri": "https://localhost:8080/"
        },
        "id": "Zr9jq88DPVp3",
        "outputId": "cb8650bc-5806-45a6-b220-214811d54aa1"
      },
      "execution_count": 25,
      "outputs": [
        {
          "output_type": "stream",
          "name": "stdout",
          "text": [
            "              precision    recall  f1-score   support\n",
            "\n",
            "           0       0.94      0.90      0.92       149\n",
            "           1       0.65      0.92      0.76       153\n",
            "           2       0.98      0.70      0.82       137\n",
            "           3       0.83      0.81      0.82       156\n",
            "           4       0.67      0.87      0.76       141\n",
            "           5       0.70      0.80      0.75       140\n",
            "           6       0.77      0.82      0.80       160\n",
            "           7       0.79      0.64      0.71       144\n",
            "           8       0.87      0.78      0.82       146\n",
            "           9       0.94      0.80      0.86       149\n",
            "          10       0.76      0.68      0.72       130\n",
            "          11       0.93      0.88      0.91       155\n",
            "          12       0.82      0.95      0.88       168\n",
            "          13       1.00      0.64      0.78       151\n",
            "          14       0.73      0.82      0.78       145\n",
            "          15       0.98      0.78      0.87       173\n",
            "          16       0.86      0.81      0.84       166\n",
            "          17       0.69      0.86      0.77       160\n",
            "          18       0.66      0.73      0.70       171\n",
            "          19       0.94      0.76      0.84       163\n",
            "          20       0.85      0.89      0.87       183\n",
            "          21       0.90      0.85      0.87       158\n",
            "          22       0.94      0.93      0.94       148\n",
            "          23       0.83      0.90      0.86       154\n",
            "          24       0.83      0.79      0.81       168\n",
            "          25       0.72      0.88      0.79       132\n",
            "\n",
            "    accuracy                           0.82      4000\n",
            "   macro avg       0.83      0.82      0.82      4000\n",
            "weighted avg       0.83      0.82      0.82      4000\n",
            "\n"
          ]
        }
      ]
    },
    {
      "cell_type": "code",
      "source": [
        "# accuracy 79%"
      ],
      "metadata": {
        "id": "i6ePzs8kSLF5"
      },
      "execution_count": 26,
      "outputs": []
    },
    {
      "cell_type": "code",
      "source": [
        "from sklearn.model_selection import GridSearchCV\n",
        "model=KerasClassifier(model=create_model,verbose=0)\n",
        "params={'batch_size':[32,64],\n",
        "        'epochs':[10,20]}\n",
        "gridsearch=GridSearchCV(estimator=model,param_grid=params,cv=3)\n",
        "grid_fit=gridsearch.fit(x_train,y_train)\n"
      ],
      "metadata": {
        "id": "Xnt9uOhqn7VW"
      },
      "execution_count": 14,
      "outputs": []
    },
    {
      "cell_type": "code",
      "source": [
        "print('Best : {}, using {}'.format(grid_fit.best_score_,grid_fit.best_params_))\n",
        "means = grid_fit.cv_results_['mean_test_score']\n",
        "stds = grid_fit.cv_results_['std_test_score']\n",
        "params = grid_fit.cv_results_['params']\n",
        "for mean, stdev, param in zip(means, stds, params):\n",
        "  print('{},{} with: {}'.format(mean, stdev, param))"
      ],
      "metadata": {
        "colab": {
          "base_uri": "https://localhost:8080/"
        },
        "id": "GOmV4abc2QD4",
        "outputId": "765cfb4b-f4af-450a-c15b-74701103654b"
      },
      "execution_count": 27,
      "outputs": [
        {
          "output_type": "stream",
          "name": "stdout",
          "text": [
            "Best : 0.9121873547917891, using {'batch_size': 64, 'epochs': 20}\n",
            "0.8838122452019581,0.010434334001023976 with: {'batch_size': 32, 'epochs': 10}\n",
            "0.9008132726143154,0.009874401026488493 with: {'batch_size': 32, 'epochs': 20}\n",
            "0.8963750265325215,0.0016353642301724374 with: {'batch_size': 64, 'epochs': 10}\n",
            "0.9121873547917891,0.001644625927247022 with: {'batch_size': 64, 'epochs': 20}\n"
          ]
        }
      ]
    },
    {
      "cell_type": "code",
      "source": [
        "def create_model1(learning_rate,dropout_rate):\n",
        "  model=Sequential()\n",
        "  model.add(Dense(64,input_dim=16,kernel_initializer='uniform',activation='relu'))\n",
        "  model.add(Dropout(dropout_rate))\n",
        "  model.add(Dense(32,kernel_initializer='uniform',activation='relu'))\n",
        "  model.add(Dropout(dropout_rate))\n",
        "  model.add(Dense(26,kernel_initializer='uniform',activation='softmax'))\n",
        "\n",
        "  adam=Adam(learning_rate=learning_rate)\n",
        "  model.compile(loss='sparse_categorical_crossentropy',optimizer=adam,metrics=['accuracy'])\n",
        "  return model"
      ],
      "metadata": {
        "id": "P_lAv_nPtJ6O"
      },
      "execution_count": 28,
      "outputs": []
    },
    {
      "cell_type": "code",
      "source": [
        "model=KerasClassifier(model=create_model1,verbose=0,batch_size=64,epochs=20,dropout_rate=[0.1,0.2,0.01],learning_rate=[0.001,0.01,0.1])\n",
        "dropout_rate=[0.1,0.2,0.01]\n",
        "learning_rate=[0.001,0.01,0.1]\n",
        "\n",
        "params=dict(learning_rate=learning_rate,\n",
        "            dropout_rate=dropout_rate)\n",
        "gridsearch=GridSearchCV(estimator=model,param_grid=params,cv=3)\n",
        "grid_fit=gridsearch.fit(x_train,y_train)\n"
      ],
      "metadata": {
        "id": "SeHPx9tgMwqK"
      },
      "execution_count": 29,
      "outputs": []
    },
    {
      "cell_type": "code",
      "source": [
        "print('Best : {}, using {}'.format(grid_fit.best_score_,grid_fit.best_params_))\n",
        "means = grid_fit.cv_results_['mean_test_score']\n",
        "stds = grid_fit.cv_results_['std_test_score']\n",
        "params = grid_fit.cv_results_['params']\n",
        "for mean, stdev, param in zip(means, stds, params):\n",
        "  print('{},{} with: {}'.format(mean, stdev, param))"
      ],
      "metadata": {
        "colab": {
          "base_uri": "https://localhost:8080/"
        },
        "id": "MDdx9PN9Ro5H",
        "outputId": "c372e236-268e-4cbc-c0af-fd4ecce067f1"
      },
      "execution_count": 30,
      "outputs": [
        {
          "output_type": "stream",
          "name": "stdout",
          "text": [
            "Best : 0.9146878625920869, using {'dropout_rate': 0.01, 'learning_rate': 0.01}\n",
            "0.8335003502398314,0.003989042508450065 with: {'dropout_rate': 0.1, 'learning_rate': 0.001}\n",
            "0.8970634014832152,0.011556938012072209 with: {'dropout_rate': 0.1, 'learning_rate': 0.01}\n",
            "0.11100121954097573,0.017284687230348744 with: {'dropout_rate': 0.1, 'learning_rate': 0.1}\n",
            "0.8063756937564502,0.007850451325482895 with: {'dropout_rate': 0.2, 'learning_rate': 0.001}\n",
            "0.8680627372356629,0.0077518647660239645 with: {'dropout_rate': 0.2, 'learning_rate': 0.01}\n",
            "0.03856246124119165,0.0005348355902260874 with: {'dropout_rate': 0.2, 'learning_rate': 0.1}\n",
            "0.8595621825164224,0.0037709931606170304 with: {'dropout_rate': 0.01, 'learning_rate': 0.001}\n",
            "0.9146878625920869,0.004985081133369047 with: {'dropout_rate': 0.01, 'learning_rate': 0.01}\n",
            "0.3373082607126762,0.04796303847160969 with: {'dropout_rate': 0.01, 'learning_rate': 0.1}\n"
          ]
        }
      ]
    },
    {
      "cell_type": "code",
      "source": [
        "def create_model2(init,activation_function):\n",
        "    model = Sequential()\n",
        "    model.add(Dense(64, input_dim=16, kernel_initializer=init, activation=activation_function))\n",
        "    model.add(Dropout(0.01))\n",
        "    model.add(Dense(32, kernel_initializer=init, activation=activation_function))\n",
        "    model.add(Dropout(0.01))\n",
        "    model.add(Dense(26, kernel_initializer=init, activation='softmax'))\n",
        "    adam = Adam(learning_rate=0.01)\n",
        "    model.compile(loss='sparse_categorical_crossentropy', optimizer=adam, metrics=['accuracy'])\n",
        "    return model"
      ],
      "metadata": {
        "id": "b6JfOVCkSEfU"
      },
      "execution_count": 31,
      "outputs": []
    },
    {
      "cell_type": "code",
      "source": [
        "model2 = KerasClassifier(model=create_model2, verbose=0, batch_size=64, epochs=20, init='uniform',\n",
        "    activation_function='relu')\n",
        "\n",
        "# Define parameter grid\n",
        "params = {\n",
        "    'init': ['uniform', 'normal', 'zeros'],\n",
        "    'activation_function': ['relu', 'tanh']\n",
        "}\n",
        "\n",
        "# Run Grid Search\n",
        "gridsearch = GridSearchCV(estimator=model2, param_grid=params, cv=3)\n",
        "grid_fit = gridsearch.fit(x_train, y_train)"
      ],
      "metadata": {
        "id": "ersdKSeDZu4p"
      },
      "execution_count": 32,
      "outputs": []
    },
    {
      "cell_type": "code",
      "source": [
        "print('best:{},using:{}'.format(grid_fit.best_score_,grid_fit.best_params_))\n",
        "means = grid_fit.cv_results_['mean_test_score']\n",
        "stds = grid_fit.cv_results_['std_test_score']\n",
        "params = grid_fit.cv_results_['params']\n",
        "for mean, stdev, param in zip(means, stds, params):\n",
        "  print('{},{} with: {}'.format(mean, stdev, param))\n"
      ],
      "metadata": {
        "colab": {
          "base_uri": "https://localhost:8080/"
        },
        "id": "G1sSz_sWgU2Z",
        "outputId": "aeab43e9-ad8d-4c92-c4e6-4a781e4739a4"
      },
      "execution_count": 33,
      "outputs": [
        {
          "output_type": "stream",
          "name": "stdout",
          "text": [
            "best:0.9166246399961303,using:{'activation_function': 'relu', 'init': 'normal'}\n",
            "0.9078131476768104,0.00794168017996722 with: {'activation_function': 'relu', 'init': 'uniform'}\n",
            "0.9166246399961303,0.006371197447898104 with: {'activation_function': 'relu', 'init': 'normal'}\n",
            "0.03818755498240387,0.0007732503836559758 with: {'activation_function': 'relu', 'init': 'zeros'}\n",
            "0.9072500266174773,0.005902140632309513 with: {'activation_function': 'tanh', 'init': 'uniform'}\n",
            "0.9093750539761191,0.0007641215957687573 with: {'activation_function': 'tanh', 'init': 'normal'}\n",
            "0.03993745343992136,0.0005485654638258446 with: {'activation_function': 'tanh', 'init': 'zeros'}\n"
          ]
        }
      ]
    },
    {
      "cell_type": "code",
      "source": [
        "def create_model3(nuron1,nuron2):\n",
        "  model=Sequential()\n",
        "  model.add(Dense(nuron1,input_dim=16,kernel_initializer='normal',activation='relu'))\n",
        "  model.add(Dropout(0.01))\n",
        "  model.add(Dense(nuron2,input_dim=nuron1,kernel_initializer='normal',activation='relu'))\n",
        "  model.add(Dropout(0.01))\n",
        "  model.add(Dense(26,kernel_initializer='normal',activation='softmax'))\n",
        "\n",
        "  adam=Adam(learning_rate=0.01)\n",
        "  model.compile(loss='sparse_categorical_crossentropy',optimizer=adam,metrics=['accuracy'])\n",
        "  return model"
      ],
      "metadata": {
        "id": "MA6TKrmajJee"
      },
      "execution_count": 34,
      "outputs": []
    },
    {
      "cell_type": "code",
      "source": [
        "model3=KerasClassifier(model=create_model3,batch_size=64,epochs=20,verbose=0,nuron1=[32,64],nuron2=[16,32])\n",
        "nuron1=[32,64]\n",
        "nuron2=[16,32]\n",
        "params=dict(nuron1=nuron1,nuron2=nuron2)\n",
        "gridsearch=GridSearchCV(estimator=model3,param_grid=params,cv=3,verbose=0)\n",
        "grid_fit=gridsearch.fit(x_train,y_train)"
      ],
      "metadata": {
        "id": "l4-Srdhxj2gn"
      },
      "execution_count": 35,
      "outputs": []
    },
    {
      "cell_type": "code",
      "source": [
        "print('best:{},using:{}'.format(grid_fit.best_score_,grid_fit.best_params_))\n",
        "means = grid_fit.cv_results_['mean_test_score']\n",
        "stds = grid_fit.cv_results_['std_test_score']\n",
        "params = grid_fit.cv_results_['params']\n",
        "for mean, stdev, param in zip(means, stds, params):\n",
        "  print('{},{} with: {}'.format(mean, stdev, param))"
      ],
      "metadata": {
        "colab": {
          "base_uri": "https://localhost:8080/"
        },
        "id": "AZQVOtzZKFAm",
        "outputId": "ed88aab8-bbdc-41a3-e331-0ff090088f34"
      },
      "execution_count": 36,
      "outputs": [
        {
          "output_type": "stream",
          "name": "stdout",
          "text": [
            "best:0.9128751204055616,using:{'nuron1': 64, 'nuron2': 32}\n",
            "0.8719996630835546,0.00518937490621161 with: {'nuron1': 32, 'nuron2': 16}\n",
            "0.8948752140090871,0.00433674570175219 with: {'nuron1': 32, 'nuron2': 32}\n",
            "0.8969998078010734,0.004738691788119254 with: {'nuron1': 64, 'nuron2': 16}\n",
            "0.9128751204055616,0.0050114315852511785 with: {'nuron1': 64, 'nuron2': 32}\n"
          ]
        }
      ]
    },
    {
      "cell_type": "code",
      "source": [
        "def create_model4():\n",
        "  model=Sequential()\n",
        "  model.add(Dense(64,input_dim=16,kernel_initializer='normal',activation='relu'))\n",
        "  model.add(Dropout(0.01))\n",
        "  model.add(Dense(32,kernel_initializer='normal',activation='relu'))\n",
        "  model.add(Dropout(0.01))\n",
        "  model.add(Dense(26,kernel_initializer='normal',activation='softmax'))\n",
        "\n",
        "  adam=Adam(learning_rate=0.01)\n",
        "  model.compile(loss='sparse_categorical_crossentropy',optimizer=adam,metrics=['accuracy'])\n",
        "  return model"
      ],
      "metadata": {
        "id": "gZId9aORLBdD"
      },
      "execution_count": 37,
      "outputs": []
    },
    {
      "cell_type": "code",
      "source": [
        "model=KerasClassifier(model=create_model4,batch_size=64,epochs=20,verbose=0)\n",
        "nural_model=model.fit(x_train,y_train)\n",
        "y_pred=nural_model.predict(x_test)\n"
      ],
      "metadata": {
        "id": "FpjRY0vJLZjL"
      },
      "execution_count": 38,
      "outputs": []
    },
    {
      "cell_type": "code",
      "source": [
        "from sklearn.metrics import classification_report\n",
        "print(classification_report(y_test,y_pred))"
      ],
      "metadata": {
        "colab": {
          "base_uri": "https://localhost:8080/"
        },
        "id": "NycpBSbOMe0q",
        "outputId": "33b429d3-fdb7-4d77-d282-2f727f4cd9f2"
      },
      "execution_count": 39,
      "outputs": [
        {
          "output_type": "stream",
          "name": "stdout",
          "text": [
            "              precision    recall  f1-score   support\n",
            "\n",
            "           0       0.95      0.99      0.97       149\n",
            "           1       0.89      0.96      0.92       153\n",
            "           2       0.96      0.91      0.94       137\n",
            "           3       0.94      0.87      0.91       156\n",
            "           4       0.89      0.95      0.92       141\n",
            "           5       0.97      0.88      0.92       140\n",
            "           6       0.95      0.91      0.93       160\n",
            "           7       0.89      0.87      0.88       144\n",
            "           8       0.91      0.95      0.93       146\n",
            "           9       0.96      0.91      0.93       149\n",
            "          10       0.91      0.87      0.89       130\n",
            "          11       0.95      0.96      0.96       155\n",
            "          12       0.98      0.98      0.98       168\n",
            "          13       0.95      0.95      0.95       151\n",
            "          14       0.92      0.97      0.94       145\n",
            "          15       0.96      0.95      0.95       173\n",
            "          16       0.97      0.93      0.95       166\n",
            "          17       0.80      0.94      0.87       160\n",
            "          18       0.94      0.98      0.96       171\n",
            "          19       0.97      0.93      0.95       163\n",
            "          20       0.97      0.96      0.97       183\n",
            "          21       0.97      0.92      0.94       158\n",
            "          22       0.97      0.97      0.97       148\n",
            "          23       0.94      0.98      0.96       154\n",
            "          24       0.92      0.96      0.94       168\n",
            "          25       0.97      0.89      0.93       132\n",
            "\n",
            "    accuracy                           0.94      4000\n",
            "   macro avg       0.94      0.94      0.94      4000\n",
            "weighted avg       0.94      0.94      0.94      4000\n",
            "\n"
          ]
        }
      ]
    },
    {
      "cell_type": "code",
      "source": [
        "# model have 93% accuracy"
      ],
      "metadata": {
        "id": "UajWsLxtM2iO"
      },
      "execution_count": 40,
      "outputs": []
    },
    {
      "cell_type": "markdown",
      "source": [],
      "metadata": {
        "id": "GUD4U2iuTUpL"
      }
    },
    {
      "cell_type": "code",
      "source": [
        "✅ Key Differences in Metrics:\n",
        "Metric\t        Default Model\t                    Tuned Model\n",
        "Training         Accuracy\tModerate (79%)\t        High (93%)\n",
        "Validation       AccuracyLow/Fluctuating\t        Improved/Stable\n",
        "Generalization\t  Poor (overfit/underfit)\t         Better balance\n",
        "Training           Time\tShort\t                     Longer (but worth it)\n",
        "Loss Convergence\t   May plateau early\t           More gradual & stable\n",
        "\n"
      ],
      "metadata": {
        "id": "xvNzbraPRe09"
      },
      "execution_count": null,
      "outputs": []
    }
  ]
}