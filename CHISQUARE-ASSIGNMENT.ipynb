{
 "cells": [
  {
   "cell_type": "code",
   "execution_count": 24,
   "id": "ef89e656",
   "metadata": {},
   "outputs": [],
   "source": [
    "import pandas as pd\n",
    "data={'Satisfaction':['Very Satisfied','Satisfied','Neutral','Unsatisfied','Very Unsatisfied'],\n",
    "      'Smart Thermostat':[50,80,60,30,20],\n",
    "      'Smart Light':[70,100,90,50,50]}\n"
   ]
  },
  {
   "cell_type": "code",
   "execution_count": 25,
   "id": "59a91109",
   "metadata": {},
   "outputs": [],
   "source": [
    "cotingency_table=pd.DataFrame(data)"
   ]
  },
  {
   "cell_type": "code",
   "execution_count": 26,
   "id": "b5bf49ae",
   "metadata": {},
   "outputs": [
    {
     "data": {
      "text/html": [
       "<div>\n",
       "<style scoped>\n",
       "    .dataframe tbody tr th:only-of-type {\n",
       "        vertical-align: middle;\n",
       "    }\n",
       "\n",
       "    .dataframe tbody tr th {\n",
       "        vertical-align: top;\n",
       "    }\n",
       "\n",
       "    .dataframe thead th {\n",
       "        text-align: right;\n",
       "    }\n",
       "</style>\n",
       "<table border=\"1\" class=\"dataframe\">\n",
       "  <thead>\n",
       "    <tr style=\"text-align: right;\">\n",
       "      <th></th>\n",
       "      <th>Satisfaction</th>\n",
       "      <th>Smart Thermostat</th>\n",
       "      <th>Smart Light</th>\n",
       "    </tr>\n",
       "  </thead>\n",
       "  <tbody>\n",
       "    <tr>\n",
       "      <th>0</th>\n",
       "      <td>Very Satisfied</td>\n",
       "      <td>50</td>\n",
       "      <td>70</td>\n",
       "    </tr>\n",
       "    <tr>\n",
       "      <th>1</th>\n",
       "      <td>Satisfied</td>\n",
       "      <td>80</td>\n",
       "      <td>100</td>\n",
       "    </tr>\n",
       "    <tr>\n",
       "      <th>2</th>\n",
       "      <td>Neutral</td>\n",
       "      <td>60</td>\n",
       "      <td>90</td>\n",
       "    </tr>\n",
       "    <tr>\n",
       "      <th>3</th>\n",
       "      <td>Unsatisfied</td>\n",
       "      <td>30</td>\n",
       "      <td>50</td>\n",
       "    </tr>\n",
       "    <tr>\n",
       "      <th>4</th>\n",
       "      <td>Very Unsatisfied</td>\n",
       "      <td>20</td>\n",
       "      <td>50</td>\n",
       "    </tr>\n",
       "  </tbody>\n",
       "</table>\n",
       "</div>"
      ],
      "text/plain": [
       "       Satisfaction  Smart Thermostat  Smart Light\n",
       "0    Very Satisfied                50           70\n",
       "1         Satisfied                80          100\n",
       "2           Neutral                60           90\n",
       "3       Unsatisfied                30           50\n",
       "4  Very Unsatisfied                20           50"
      ]
     },
     "execution_count": 26,
     "metadata": {},
     "output_type": "execute_result"
    }
   ],
   "source": [
    "cotingency_table"
   ]
  },
  {
   "cell_type": "code",
   "execution_count": 35,
   "id": "efd68846",
   "metadata": {},
   "outputs": [],
   "source": [
    "table1=cotingency_table[['Smart Thermostat','Smart Light']].values"
   ]
  },
  {
   "cell_type": "code",
   "execution_count": 36,
   "id": "4e4166f4",
   "metadata": {},
   "outputs": [],
   "source": [
    "observer_table=table1"
   ]
  },
  {
   "cell_type": "code",
   "execution_count": 38,
   "id": "a4583040",
   "metadata": {},
   "outputs": [],
   "source": [
    "import scipy.stats as stats\n",
    "from scipy.stats import chi2_contingency"
   ]
  },
  {
   "cell_type": "code",
   "execution_count": 39,
   "id": "e83a1085",
   "metadata": {},
   "outputs": [],
   "source": [
    "chi2_value=stats.chi2_contingency(table1)"
   ]
  },
  {
   "cell_type": "code",
   "execution_count": 40,
   "id": "bf439141",
   "metadata": {},
   "outputs": [
    {
     "data": {
      "text/plain": [
       "Chi2ContingencyResult(statistic=5.638227513227513, pvalue=0.22784371130697179, dof=4, expected_freq=array([[ 48.,  72.],\n",
       "       [ 72., 108.],\n",
       "       [ 60.,  90.],\n",
       "       [ 32.,  48.],\n",
       "       [ 28.,  42.]]))"
      ]
     },
     "execution_count": 40,
     "metadata": {},
     "output_type": "execute_result"
    }
   ],
   "source": [
    "chi2_value"
   ]
  },
  {
   "cell_type": "code",
   "execution_count": 50,
   "id": "4c368961",
   "metadata": {},
   "outputs": [],
   "source": [
    "p_value=chi2_value[1]"
   ]
  },
  {
   "cell_type": "code",
   "execution_count": 43,
   "id": "8c84d5ce",
   "metadata": {},
   "outputs": [],
   "source": [
    "# h0= customer satisfaction does not depend on types of product purchased\n",
    "# ha=customer satisfiction depend on types of product purchased"
   ]
  },
  {
   "cell_type": "code",
   "execution_count": 51,
   "id": "cdec1ae7",
   "metadata": {},
   "outputs": [
    {
     "name": "stdout",
     "output_type": "stream",
     "text": [
      "customer satisfaction does not depend on types of product purchased\n"
     ]
    }
   ],
   "source": [
    "alpha=0.05\n",
    "p_value=0.227\n",
    "if p_value<alpha:\n",
    "    print('customer satisfiction depend on types of product purchased')\n",
    "else:\n",
    "    print('customer satisfaction does not depend on types of product purchased')\n",
    "        \n"
   ]
  },
  {
   "cell_type": "code",
   "execution_count": 53,
   "id": "6c2730e6",
   "metadata": {},
   "outputs": [],
   "source": [
    "t_value=stats.norm.ppf(p_value,4)"
   ]
  },
  {
   "cell_type": "code",
   "execution_count": 54,
   "id": "d519aa0f",
   "metadata": {},
   "outputs": [
    {
     "data": {
      "text/plain": [
       "3.2512368933850913"
      ]
     },
     "execution_count": 54,
     "metadata": {},
     "output_type": "execute_result"
    }
   ],
   "source": [
    "t_value"
   ]
  },
  {
   "cell_type": "code",
   "execution_count": 55,
   "id": "4a5e8db9",
   "metadata": {},
   "outputs": [
    {
     "name": "stdout",
     "output_type": "stream",
     "text": [
      "customer satisfaction does not depend on types of product purchased\n"
     ]
    }
   ],
   "source": [
    "alpha=0.05\n",
    "t_value=3.25123\n",
    "if p_value<alpha:\n",
    "    print('customer satisfiction depend on types of product purchased')\n",
    "else:\n",
    "    print('customer satisfaction does not depend on types of product purchased')\n",
    "        \n"
   ]
  },
  {
   "cell_type": "code",
   "execution_count": null,
   "id": "af04b381",
   "metadata": {},
   "outputs": [],
   "source": []
  }
 ],
 "metadata": {
  "kernelspec": {
   "display_name": "Python 3 (ipykernel)",
   "language": "python",
   "name": "python3"
  },
  "language_info": {
   "codemirror_mode": {
    "name": "ipython",
    "version": 3
   },
   "file_extension": ".py",
   "mimetype": "text/x-python",
   "name": "python",
   "nbconvert_exporter": "python",
   "pygments_lexer": "ipython3",
   "version": "3.11.5"
  }
 },
 "nbformat": 4,
 "nbformat_minor": 5
}
