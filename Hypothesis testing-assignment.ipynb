{
 "cells": [
  {
   "cell_type": "code",
   "execution_count": 1,
   "id": "fd651900",
   "metadata": {},
   "outputs": [],
   "source": [
    "#ˉxˉ = sample mean weekly cost (Rs. 3,050)\n",
    "# μ = theoretical mean weekly cost according to the cost model (W = $1,000 + $5X for X = 600 units)\n",
    "# σ = 5*25 units\n",
    "# n = sample size (25 restaurants)\n"
   ]
  },
  {
   "cell_type": "code",
   "execution_count": 2,
   "id": "c11c7be6",
   "metadata": {},
   "outputs": [],
   "source": [
    "# h0= weekly oporating cost(meau)>4000\n",
    "# ha=weekly oporating cost(meau)<4000"
   ]
  },
  {
   "cell_type": "code",
   "execution_count": 3,
   "id": "efe936fd",
   "metadata": {},
   "outputs": [],
   "source": [
    "x=3050\n",
    "meau=(1000+5*600)\n",
    "sigma=5*25\n",
    "n=25"
   ]
  },
  {
   "cell_type": "code",
   "execution_count": 4,
   "id": "dde894b2",
   "metadata": {},
   "outputs": [
    {
     "data": {
      "text/plain": [
       "4000"
      ]
     },
     "execution_count": 4,
     "metadata": {},
     "output_type": "execute_result"
    }
   ],
   "source": [
    "meau=(1000+5*600)\n",
    "meau"
   ]
  },
  {
   "cell_type": "code",
   "execution_count": 5,
   "id": "ec703aeb",
   "metadata": {},
   "outputs": [],
   "source": [
    "import numpy as np\n",
    "x1=np.random.normal(size=25,loc=3050,scale=25)"
   ]
  },
  {
   "cell_type": "code",
   "execution_count": 6,
   "id": "2dd44457",
   "metadata": {},
   "outputs": [
    {
     "data": {
      "text/plain": [
       "array([3002.68525915, 3021.78294774, 3034.99868718, 3034.28407805,\n",
       "       3031.15889853, 3015.07595604, 3048.29894612, 3038.13120604,\n",
       "       3028.98627817, 3043.13308648, 3001.01941913, 3027.11027729,\n",
       "       3019.52658632, 3036.12964389, 3052.91563784, 3066.21529479,\n",
       "       3068.00636306, 3025.66767541, 3046.75469373, 3066.83340239,\n",
       "       3062.44981113, 3049.77945969, 3030.86242437, 3055.02605709,\n",
       "       3061.76302127])"
      ]
     },
     "execution_count": 6,
     "metadata": {},
     "output_type": "execute_result"
    }
   ],
   "source": [
    "x1"
   ]
  },
  {
   "cell_type": "code",
   "execution_count": 8,
   "id": "4c5f2fb8",
   "metadata": {},
   "outputs": [
    {
     "data": {
      "text/plain": [
       "TtestResult(statistic=-251.61338512396347, pvalue=1.4136362392408282e-42, df=24)"
      ]
     },
     "execution_count": 8,
     "metadata": {},
     "output_type": "execute_result"
    }
   ],
   "source": [
    "import scipy.stats as stats\n",
    "stats.ttest_1samp(x1,4000)"
   ]
  },
  {
   "cell_type": "code",
   "execution_count": 9,
   "id": "c127ea0f",
   "metadata": {},
   "outputs": [],
   "source": [
    "import scipy.stats as stats\n",
    "t_critical=stats.t.ppf(0.95,df=24)\n"
   ]
  },
  {
   "cell_type": "code",
   "execution_count": 10,
   "id": "712500e3",
   "metadata": {},
   "outputs": [
    {
     "data": {
      "text/plain": [
       "1.7108820799094275"
      ]
     },
     "execution_count": 10,
     "metadata": {},
     "output_type": "execute_result"
    }
   ],
   "source": [
    "t_critical"
   ]
  },
  {
   "cell_type": "code",
   "execution_count": null,
   "id": "15c7925f",
   "metadata": {},
   "outputs": [],
   "source": [
    "# p_value<t_value accept null hypothesis"
   ]
  },
  {
   "cell_type": "code",
   "execution_count": null,
   "id": "3afeac37",
   "metadata": {},
   "outputs": [],
   "source": []
  }
 ],
 "metadata": {
  "kernelspec": {
   "display_name": "Python 3 (ipykernel)",
   "language": "python",
   "name": "python3"
  },
  "language_info": {
   "codemirror_mode": {
    "name": "ipython",
    "version": 3
   },
   "file_extension": ".py",
   "mimetype": "text/x-python",
   "name": "python",
   "nbconvert_exporter": "python",
   "pygments_lexer": "ipython3",
   "version": "3.11.5"
  }
 },
 "nbformat": 4,
 "nbformat_minor": 5
}
